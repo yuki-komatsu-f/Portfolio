{
 "cells": [
  {
   "cell_type": "markdown",
   "id": "27ca69ab",
   "metadata": {},
   "source": [
    "# この水は人間にとって安全かどうか分析\n",
    "\n",
    "今回はロジスティック回帰を使用したモデルの作成から評価までを行う事を目的としました。\n",
    "\n",
    "データの詳細は以下のURLより確認できます。\n",
    "\n",
    "https://www.kaggle.com/adityakadiwal/water-potability\n"
   ]
  },
  {
   "cell_type": "code",
   "execution_count": 2,
   "id": "67f01175",
   "metadata": {},
   "outputs": [],
   "source": [
    "#モジュールの読み込み\n",
    "\n",
    "import numpy as np\n",
    "import pandas as pd\n",
    "from scipy import stats\n",
    "\n",
    "import statsmodels.formula.api as smf\n",
    "import statsmodels.api as sm\n",
    "\n",
    "from sklearn.linear_model import RidgeCV\n",
    "from sklearn.metrics import mean_squared_error\n",
    "from sklearn.model_selection import train_test_split\n",
    "from sklearn.svm import SVC\n",
    "from sklearn import metrics\n",
    "\n",
    "import matplotlib.pyplot as plt\n",
    "import seaborn as sns\n",
    "\n",
    "%matplotlib inline\n",
    "sns.set()"
   ]
  },
  {
   "cell_type": "code",
   "execution_count": 24,
   "id": "7a333cc9",
   "metadata": {},
   "outputs": [
    {
     "data": {
      "text/html": [
       "<div>\n",
       "<style scoped>\n",
       "    .dataframe tbody tr th:only-of-type {\n",
       "        vertical-align: middle;\n",
       "    }\n",
       "\n",
       "    .dataframe tbody tr th {\n",
       "        vertical-align: top;\n",
       "    }\n",
       "\n",
       "    .dataframe thead th {\n",
       "        text-align: right;\n",
       "    }\n",
       "</style>\n",
       "<table border=\"1\" class=\"dataframe\">\n",
       "  <thead>\n",
       "    <tr style=\"text-align: right;\">\n",
       "      <th></th>\n",
       "      <th>ph</th>\n",
       "      <th>Hardness</th>\n",
       "      <th>Solids</th>\n",
       "      <th>Chloramines</th>\n",
       "      <th>Sulfate</th>\n",
       "      <th>Conductivity</th>\n",
       "      <th>Organic_carbon</th>\n",
       "      <th>Trihalomethanes</th>\n",
       "      <th>Turbidity</th>\n",
       "      <th>Potability</th>\n",
       "    </tr>\n",
       "  </thead>\n",
       "  <tbody>\n",
       "    <tr>\n",
       "      <th>count</th>\n",
       "      <td>2785.000000</td>\n",
       "      <td>3276.000000</td>\n",
       "      <td>3276.000000</td>\n",
       "      <td>3276.000000</td>\n",
       "      <td>2495.000000</td>\n",
       "      <td>3276.000000</td>\n",
       "      <td>3276.000000</td>\n",
       "      <td>3114.000000</td>\n",
       "      <td>3276.000000</td>\n",
       "      <td>3276.000000</td>\n",
       "    </tr>\n",
       "    <tr>\n",
       "      <th>mean</th>\n",
       "      <td>7.080795</td>\n",
       "      <td>196.369496</td>\n",
       "      <td>22014.092526</td>\n",
       "      <td>7.122277</td>\n",
       "      <td>333.775777</td>\n",
       "      <td>426.205111</td>\n",
       "      <td>14.284970</td>\n",
       "      <td>66.396293</td>\n",
       "      <td>3.966786</td>\n",
       "      <td>0.390110</td>\n",
       "    </tr>\n",
       "    <tr>\n",
       "      <th>std</th>\n",
       "      <td>1.594320</td>\n",
       "      <td>32.879761</td>\n",
       "      <td>8768.570828</td>\n",
       "      <td>1.583085</td>\n",
       "      <td>41.416840</td>\n",
       "      <td>80.824064</td>\n",
       "      <td>3.308162</td>\n",
       "      <td>16.175008</td>\n",
       "      <td>0.780382</td>\n",
       "      <td>0.487849</td>\n",
       "    </tr>\n",
       "    <tr>\n",
       "      <th>min</th>\n",
       "      <td>0.000000</td>\n",
       "      <td>47.432000</td>\n",
       "      <td>320.942611</td>\n",
       "      <td>0.352000</td>\n",
       "      <td>129.000000</td>\n",
       "      <td>181.483754</td>\n",
       "      <td>2.200000</td>\n",
       "      <td>0.738000</td>\n",
       "      <td>1.450000</td>\n",
       "      <td>0.000000</td>\n",
       "    </tr>\n",
       "    <tr>\n",
       "      <th>25%</th>\n",
       "      <td>6.093092</td>\n",
       "      <td>176.850538</td>\n",
       "      <td>15666.690297</td>\n",
       "      <td>6.127421</td>\n",
       "      <td>307.699498</td>\n",
       "      <td>365.734414</td>\n",
       "      <td>12.065801</td>\n",
       "      <td>55.844536</td>\n",
       "      <td>3.439711</td>\n",
       "      <td>0.000000</td>\n",
       "    </tr>\n",
       "    <tr>\n",
       "      <th>50%</th>\n",
       "      <td>7.036752</td>\n",
       "      <td>196.967627</td>\n",
       "      <td>20927.833607</td>\n",
       "      <td>7.130299</td>\n",
       "      <td>333.073546</td>\n",
       "      <td>421.884968</td>\n",
       "      <td>14.218338</td>\n",
       "      <td>66.622485</td>\n",
       "      <td>3.955028</td>\n",
       "      <td>0.000000</td>\n",
       "    </tr>\n",
       "    <tr>\n",
       "      <th>75%</th>\n",
       "      <td>8.062066</td>\n",
       "      <td>216.667456</td>\n",
       "      <td>27332.762127</td>\n",
       "      <td>8.114887</td>\n",
       "      <td>359.950170</td>\n",
       "      <td>481.792304</td>\n",
       "      <td>16.557652</td>\n",
       "      <td>77.337473</td>\n",
       "      <td>4.500320</td>\n",
       "      <td>1.000000</td>\n",
       "    </tr>\n",
       "    <tr>\n",
       "      <th>max</th>\n",
       "      <td>14.000000</td>\n",
       "      <td>323.124000</td>\n",
       "      <td>61227.196008</td>\n",
       "      <td>13.127000</td>\n",
       "      <td>481.030642</td>\n",
       "      <td>753.342620</td>\n",
       "      <td>28.300000</td>\n",
       "      <td>124.000000</td>\n",
       "      <td>6.739000</td>\n",
       "      <td>1.000000</td>\n",
       "    </tr>\n",
       "  </tbody>\n",
       "</table>\n",
       "</div>"
      ],
      "text/plain": [
       "                ph     Hardness        Solids  Chloramines      Sulfate  \\\n",
       "count  2785.000000  3276.000000   3276.000000  3276.000000  2495.000000   \n",
       "mean      7.080795   196.369496  22014.092526     7.122277   333.775777   \n",
       "std       1.594320    32.879761   8768.570828     1.583085    41.416840   \n",
       "min       0.000000    47.432000    320.942611     0.352000   129.000000   \n",
       "25%       6.093092   176.850538  15666.690297     6.127421   307.699498   \n",
       "50%       7.036752   196.967627  20927.833607     7.130299   333.073546   \n",
       "75%       8.062066   216.667456  27332.762127     8.114887   359.950170   \n",
       "max      14.000000   323.124000  61227.196008    13.127000   481.030642   \n",
       "\n",
       "       Conductivity  Organic_carbon  Trihalomethanes    Turbidity   Potability  \n",
       "count   3276.000000     3276.000000      3114.000000  3276.000000  3276.000000  \n",
       "mean     426.205111       14.284970        66.396293     3.966786     0.390110  \n",
       "std       80.824064        3.308162        16.175008     0.780382     0.487849  \n",
       "min      181.483754        2.200000         0.738000     1.450000     0.000000  \n",
       "25%      365.734414       12.065801        55.844536     3.439711     0.000000  \n",
       "50%      421.884968       14.218338        66.622485     3.955028     0.000000  \n",
       "75%      481.792304       16.557652        77.337473     4.500320     1.000000  \n",
       "max      753.342620       28.300000       124.000000     6.739000     1.000000  "
      ]
     },
     "execution_count": 24,
     "metadata": {},
     "output_type": "execute_result"
    }
   ],
   "source": [
    "#データを読み込む\n",
    "\n",
    "data = pd.read_csv(\"water_potability.csv\")\n",
    "data.describe()"
   ]
  },
  {
   "cell_type": "code",
   "execution_count": 23,
   "id": "d425d122",
   "metadata": {},
   "outputs": [
    {
     "data": {
      "text/plain": [
       "array([[<matplotlib.axes._subplots.AxesSubplot object at 0x7fd043853d90>,\n",
       "        <matplotlib.axes._subplots.AxesSubplot object at 0x7fd0434b9940>,\n",
       "        <matplotlib.axes._subplots.AxesSubplot object at 0x7fd0433f95e0>],\n",
       "       [<matplotlib.axes._subplots.AxesSubplot object at 0x7fd043429460>,\n",
       "        <matplotlib.axes._subplots.AxesSubplot object at 0x7fd043472880>,\n",
       "        <matplotlib.axes._subplots.AxesSubplot object at 0x7fd0433401c0>],\n",
       "       [<matplotlib.axes._subplots.AxesSubplot object at 0x7fd0433402b0>,\n",
       "        <matplotlib.axes._subplots.AxesSubplot object at 0x7fd0432eb760>,\n",
       "        <matplotlib.axes._subplots.AxesSubplot object at 0x7fd043245f70>],\n",
       "       [<matplotlib.axes._subplots.AxesSubplot object at 0x7fd04327d400>,\n",
       "        <matplotlib.axes._subplots.AxesSubplot object at 0x7fd04322a790>,\n",
       "        <matplotlib.axes._subplots.AxesSubplot object at 0x7fd0431cad90>]],\n",
       "      dtype=object)"
      ]
     },
     "execution_count": 23,
     "metadata": {},
     "output_type": "execute_result"
    },
    {
     "data": {
      "image/png": "[encoded data removed]",
      "text/plain": [
       "<Figure size 432x288 with 12 Axes>"
      ]
     },
     "metadata": {},
     "output_type": "display_data"
    }
   ],
   "source": [
    "#各データの分布を確認\n",
    "data.hist()"
   ]
  },
  {
   "cell_type": "code",
   "execution_count": 31,
   "id": "17c45aad",
   "metadata": {},
   "outputs": [
    {
     "name": "stdout",
     "output_type": "stream",
     "text": [
      "ph : missing record number is 491\n",
      "Hardness : missing record number is 0\n",
      "Solids : missing record number is 0\n",
      "Chloramines : missing record number is 0\n",
      "Sulfate : missing record number is 781\n",
      "Conductivity : missing record number is 0\n",
      "Organic_carbon : missing record number is 0\n",
      "Trihalomethanes : missing record number is 162\n",
      "Turbidity : missing record number is 0\n",
      "Potability : missing record number is 0\n"
     ]
    }
   ],
   "source": [
    "#欠損値の確認\n",
    "\n",
    "col_names = data.columns\n",
    "for col_name in col_names:\n",
    "    missing_num = sum(pd.isnull(data[col_name]))\n",
    "    print(col_name, ': missing record number is', missing_num)"
   ]
  },
  {
   "cell_type": "code",
   "execution_count": 32,
   "id": "f38618e9",
   "metadata": {},
   "outputs": [],
   "source": [
    "#欠損値の補充\n",
    "\n",
    "data[\"ph\"] = data[\"ph\"].fillna(data[\"ph\"].mean())\n",
    "\n",
    "data[\"Sulfate\"] = data[\"Sulfate\"].fillna(data[\"Sulfate\"].mean())\n",
    "\n",
    "data[\"Trihalomethanes\"] = data[\"Trihalomethanes\"].fillna(data[\"Trihalomethanes\"].mean())"
   ]
  },
  {
   "cell_type": "code",
   "execution_count": 33,
   "id": "cd8ee8e5",
   "metadata": {},
   "outputs": [
    {
     "name": "stdout",
     "output_type": "stream",
     "text": [
      "ph : missing record number is 0\n",
      "Hardness : missing record number is 0\n",
      "Solids : missing record number is 0\n",
      "Chloramines : missing record number is 0\n",
      "Sulfate : missing record number is 0\n",
      "Conductivity : missing record number is 0\n",
      "Organic_carbon : missing record number is 0\n",
      "Trihalomethanes : missing record number is 0\n",
      "Turbidity : missing record number is 0\n",
      "Potability : missing record number is 0\n"
     ]
    }
   ],
   "source": [
    "#欠損値が埋まっているか確認\n",
    "col_names = data.columns\n",
    "for col_name in col_names:\n",
    "    missing_num = sum(pd.isnull(data[col_name]))\n",
    "    print(col_name, ': missing record number is', missing_num)"
   ]
  },
  {
   "cell_type": "code",
   "execution_count": 34,
   "id": "8a305552",
   "metadata": {},
   "outputs": [
    {
     "data": {
      "text/html": [
       "<div>\n",
       "<style scoped>\n",
       "    .dataframe tbody tr th:only-of-type {\n",
       "        vertical-align: middle;\n",
       "    }\n",
       "\n",
       "    .dataframe tbody tr th {\n",
       "        vertical-align: top;\n",
       "    }\n",
       "\n",
       "    .dataframe thead th {\n",
       "        text-align: right;\n",
       "    }\n",
       "</style>\n",
       "<table border=\"1\" class=\"dataframe\">\n",
       "  <thead>\n",
       "    <tr style=\"text-align: right;\">\n",
       "      <th></th>\n",
       "      <th>ph</th>\n",
       "      <th>Hardness</th>\n",
       "      <th>Solids</th>\n",
       "      <th>Chloramines</th>\n",
       "      <th>Sulfate</th>\n",
       "      <th>Conductivity</th>\n",
       "      <th>Organic_carbon</th>\n",
       "      <th>Trihalomethanes</th>\n",
       "      <th>Turbidity</th>\n",
       "      <th>Potability</th>\n",
       "    </tr>\n",
       "  </thead>\n",
       "  <tbody>\n",
       "    <tr>\n",
       "      <th>ph</th>\n",
       "      <td>1.000000</td>\n",
       "      <td>0.075833</td>\n",
       "      <td>0.081884</td>\n",
       "      <td>0.031811</td>\n",
       "      <td>0.014403</td>\n",
       "      <td>0.017192</td>\n",
       "      <td>0.040061</td>\n",
       "      <td>0.002994</td>\n",
       "      <td>0.036222</td>\n",
       "      <td>0.003287</td>\n",
       "    </tr>\n",
       "    <tr>\n",
       "      <th>Hardness</th>\n",
       "      <td>0.075833</td>\n",
       "      <td>1.000000</td>\n",
       "      <td>0.046899</td>\n",
       "      <td>0.030054</td>\n",
       "      <td>0.092766</td>\n",
       "      <td>0.023915</td>\n",
       "      <td>0.003610</td>\n",
       "      <td>0.012690</td>\n",
       "      <td>0.014449</td>\n",
       "      <td>0.013837</td>\n",
       "    </tr>\n",
       "    <tr>\n",
       "      <th>Solids</th>\n",
       "      <td>0.081884</td>\n",
       "      <td>0.046899</td>\n",
       "      <td>1.000000</td>\n",
       "      <td>0.070148</td>\n",
       "      <td>0.149840</td>\n",
       "      <td>0.013831</td>\n",
       "      <td>0.010242</td>\n",
       "      <td>0.008875</td>\n",
       "      <td>0.019546</td>\n",
       "      <td>0.033743</td>\n",
       "    </tr>\n",
       "    <tr>\n",
       "      <th>Chloramines</th>\n",
       "      <td>0.031811</td>\n",
       "      <td>0.030054</td>\n",
       "      <td>0.070148</td>\n",
       "      <td>1.000000</td>\n",
       "      <td>0.023791</td>\n",
       "      <td>0.020486</td>\n",
       "      <td>0.012653</td>\n",
       "      <td>0.016627</td>\n",
       "      <td>0.002363</td>\n",
       "      <td>0.023779</td>\n",
       "    </tr>\n",
       "    <tr>\n",
       "      <th>Sulfate</th>\n",
       "      <td>0.014403</td>\n",
       "      <td>0.092766</td>\n",
       "      <td>0.149840</td>\n",
       "      <td>0.023791</td>\n",
       "      <td>1.000000</td>\n",
       "      <td>0.014059</td>\n",
       "      <td>0.026909</td>\n",
       "      <td>0.025605</td>\n",
       "      <td>0.009790</td>\n",
       "      <td>0.020619</td>\n",
       "    </tr>\n",
       "  </tbody>\n",
       "</table>\n",
       "</div>"
      ],
      "text/plain": [
       "                   ph  Hardness    Solids  Chloramines   Sulfate  \\\n",
       "ph           1.000000  0.075833  0.081884     0.031811  0.014403   \n",
       "Hardness     0.075833  1.000000  0.046899     0.030054  0.092766   \n",
       "Solids       0.081884  0.046899  1.000000     0.070148  0.149840   \n",
       "Chloramines  0.031811  0.030054  0.070148     1.000000  0.023791   \n",
       "Sulfate      0.014403  0.092766  0.149840     0.023791  1.000000   \n",
       "\n",
       "             Conductivity  Organic_carbon  Trihalomethanes  Turbidity  \\\n",
       "ph               0.017192        0.040061         0.002994   0.036222   \n",
       "Hardness         0.023915        0.003610         0.012690   0.014449   \n",
       "Solids           0.013831        0.010242         0.008875   0.019546   \n",
       "Chloramines      0.020486        0.012653         0.016627   0.002363   \n",
       "Sulfate          0.014059        0.026909         0.025605   0.009790   \n",
       "\n",
       "             Potability  \n",
       "ph             0.003287  \n",
       "Hardness       0.013837  \n",
       "Solids         0.033743  \n",
       "Chloramines    0.023779  \n",
       "Sulfate        0.020619  "
      ]
     },
     "execution_count": 34,
     "metadata": {},
     "output_type": "execute_result"
    }
   ],
   "source": [
    "#各相関係数を確認し相関係数0.8以上のあるか確認\n",
    "threshold = 0.8\n",
    "corr_matrix = data.corr().abs()\n",
    "corr_matrix.head()"
   ]
  },
  {
   "cell_type": "code",
   "execution_count": 35,
   "id": "dd40b2ac",
   "metadata": {},
   "outputs": [
    {
     "data": {
      "text/html": [
       "<div>\n",
       "<style scoped>\n",
       "    .dataframe tbody tr th:only-of-type {\n",
       "        vertical-align: middle;\n",
       "    }\n",
       "\n",
       "    .dataframe tbody tr th {\n",
       "        vertical-align: top;\n",
       "    }\n",
       "\n",
       "    .dataframe thead th {\n",
       "        text-align: right;\n",
       "    }\n",
       "</style>\n",
       "<table border=\"1\" class=\"dataframe\">\n",
       "  <thead>\n",
       "    <tr style=\"text-align: right;\">\n",
       "      <th></th>\n",
       "      <th>ph</th>\n",
       "      <th>Hardness</th>\n",
       "      <th>Solids</th>\n",
       "      <th>Chloramines</th>\n",
       "      <th>Sulfate</th>\n",
       "      <th>Conductivity</th>\n",
       "      <th>Organic_carbon</th>\n",
       "      <th>Trihalomethanes</th>\n",
       "      <th>Turbidity</th>\n",
       "      <th>Potability</th>\n",
       "    </tr>\n",
       "  </thead>\n",
       "  <tbody>\n",
       "    <tr>\n",
       "      <th>ph</th>\n",
       "      <td>NaN</td>\n",
       "      <td>0.075833</td>\n",
       "      <td>0.081884</td>\n",
       "      <td>0.031811</td>\n",
       "      <td>0.014403</td>\n",
       "      <td>0.017192</td>\n",
       "      <td>0.040061</td>\n",
       "      <td>0.002994</td>\n",
       "      <td>0.036222</td>\n",
       "      <td>0.003287</td>\n",
       "    </tr>\n",
       "    <tr>\n",
       "      <th>Hardness</th>\n",
       "      <td>NaN</td>\n",
       "      <td>NaN</td>\n",
       "      <td>0.046899</td>\n",
       "      <td>0.030054</td>\n",
       "      <td>0.092766</td>\n",
       "      <td>0.023915</td>\n",
       "      <td>0.003610</td>\n",
       "      <td>0.012690</td>\n",
       "      <td>0.014449</td>\n",
       "      <td>0.013837</td>\n",
       "    </tr>\n",
       "    <tr>\n",
       "      <th>Solids</th>\n",
       "      <td>NaN</td>\n",
       "      <td>NaN</td>\n",
       "      <td>NaN</td>\n",
       "      <td>0.070148</td>\n",
       "      <td>0.149840</td>\n",
       "      <td>0.013831</td>\n",
       "      <td>0.010242</td>\n",
       "      <td>0.008875</td>\n",
       "      <td>0.019546</td>\n",
       "      <td>0.033743</td>\n",
       "    </tr>\n",
       "    <tr>\n",
       "      <th>Chloramines</th>\n",
       "      <td>NaN</td>\n",
       "      <td>NaN</td>\n",
       "      <td>NaN</td>\n",
       "      <td>NaN</td>\n",
       "      <td>0.023791</td>\n",
       "      <td>0.020486</td>\n",
       "      <td>0.012653</td>\n",
       "      <td>0.016627</td>\n",
       "      <td>0.002363</td>\n",
       "      <td>0.023779</td>\n",
       "    </tr>\n",
       "    <tr>\n",
       "      <th>Sulfate</th>\n",
       "      <td>NaN</td>\n",
       "      <td>NaN</td>\n",
       "      <td>NaN</td>\n",
       "      <td>NaN</td>\n",
       "      <td>NaN</td>\n",
       "      <td>0.014059</td>\n",
       "      <td>0.026909</td>\n",
       "      <td>0.025605</td>\n",
       "      <td>0.009790</td>\n",
       "      <td>0.020619</td>\n",
       "    </tr>\n",
       "  </tbody>\n",
       "</table>\n",
       "</div>"
      ],
      "text/plain": [
       "             ph  Hardness    Solids  Chloramines   Sulfate  Conductivity  \\\n",
       "ph          NaN  0.075833  0.081884     0.031811  0.014403      0.017192   \n",
       "Hardness    NaN       NaN  0.046899     0.030054  0.092766      0.023915   \n",
       "Solids      NaN       NaN       NaN     0.070148  0.149840      0.013831   \n",
       "Chloramines NaN       NaN       NaN          NaN  0.023791      0.020486   \n",
       "Sulfate     NaN       NaN       NaN          NaN       NaN      0.014059   \n",
       "\n",
       "             Organic_carbon  Trihalomethanes  Turbidity  Potability  \n",
       "ph                 0.040061         0.002994   0.036222    0.003287  \n",
       "Hardness           0.003610         0.012690   0.014449    0.013837  \n",
       "Solids             0.010242         0.008875   0.019546    0.033743  \n",
       "Chloramines        0.012653         0.016627   0.002363    0.023779  \n",
       "Sulfate            0.026909         0.025605   0.009790    0.020619  "
      ]
     },
     "execution_count": 35,
     "metadata": {},
     "output_type": "execute_result"
    }
   ],
   "source": [
    "upper = corr_matrix.where(np.triu(np.ones(corr_matrix.shape), k=1).astype(np.bool))\n",
    "upper.head()"
   ]
  },
  {
   "cell_type": "code",
   "execution_count": 36,
   "id": "8c3ed14e",
   "metadata": {},
   "outputs": [
    {
     "name": "stdout",
     "output_type": "stream",
     "text": [
      "削除する変数： []\n",
      "削除する変数の数： 0\n"
     ]
    }
   ],
   "source": [
    "to_drop = [column for column in upper.columns if column != \"Potability\" if any(upper[column] > threshold)]\n",
    "\n",
    "print(\"削除する変数：\", to_drop)\n",
    "print(\"削除する変数の数：\", len(to_drop))\n",
    "\n",
    "#今回のデータでは相関係数0.8以上のものはないのでそのままにします"
   ]
  },
  {
   "cell_type": "code",
   "execution_count": 63,
   "id": "babc6568",
   "metadata": {},
   "outputs": [],
   "source": [
    "#データをテストと訓練に分ける。\n",
    "X = data.drop(columns=[\"Potability\"])\n",
    "y = data[\"Potability\"]\n",
    "\n",
    "X_train, X_test, y_train, y_test = train_test_split(X, y, test_size=0.2,random_state = 17)"
   ]
  },
  {
   "cell_type": "code",
   "execution_count": 55,
   "id": "c183b5d0",
   "metadata": {},
   "outputs": [],
   "source": [
    "#モデル構築\n",
    "model = smf.glm(\"Potability~ph+Hardness+Chloramines+Sulfate+Conductivity+Trihalomethanes+Organic_carbon+Turbidity\", data=data, family=sm.families.Binomial()).fit()"
   ]
  },
  {
   "cell_type": "code",
   "execution_count": 56,
   "id": "77e444b9",
   "metadata": {},
   "outputs": [
    {
     "data": {
      "text/plain": [
       "4392.823063334915"
      ]
     },
     "execution_count": 56,
     "metadata": {},
     "output_type": "execute_result"
    }
   ],
   "source": [
    "#モデル評価\n",
    "model.aic"
   ]
  },
  {
   "cell_type": "code",
   "execution_count": 65,
   "id": "ac5579a5",
   "metadata": {},
   "outputs": [
    {
     "data": {
      "text/plain": [
       "1471    0.372934\n",
       "861     0.404369\n",
       "248     0.358152\n",
       "1346    0.380728\n",
       "2539    0.405863\n",
       "          ...   \n",
       "1132    0.357812\n",
       "461     0.404794\n",
       "413     0.403578\n",
       "1233    0.393885\n",
       "1644    0.386041\n",
       "Length: 656, dtype: float64"
      ]
     },
     "execution_count": 65,
     "metadata": {},
     "output_type": "execute_result"
    }
   ],
   "source": [
    "#このモデルで分析\n",
    "y_pred = model.predict(X_test)\n",
    "y_pred"
   ]
  },
  {
   "cell_type": "code",
   "execution_count": 66,
   "id": "66144cfb",
   "metadata": {},
   "outputs": [
    {
     "data": {
      "text/plain": [
       "1471    0\n",
       "861     0\n",
       "248     0\n",
       "1346    0\n",
       "2539    0\n",
       "       ..\n",
       "1132    0\n",
       "461     0\n",
       "413     0\n",
       "1233    0\n",
       "1644    0\n",
       "Length: 656, dtype: int64"
      ]
     },
     "execution_count": 66,
     "metadata": {},
     "output_type": "execute_result"
    }
   ],
   "source": [
    "#0.5以上を１に0.5未満を０にするようにする\n",
    "y_pred2 = np.round(y_pred.fillna(0.0)).astype(int)\n",
    "y_pred2"
   ]
  },
  {
   "cell_type": "code",
   "execution_count": 59,
   "id": "22eb9027",
   "metadata": {},
   "outputs": [
    {
     "name": "stdout",
     "output_type": "stream",
     "text": [
      "              precision    recall  f1-score   support\n",
      "\n",
      "           0       0.62      1.00      0.77       610\n",
      "           1       0.00      0.00      0.00       373\n",
      "\n",
      "    accuracy                           0.62       983\n",
      "   macro avg       0.31      0.50      0.38       983\n",
      "weighted avg       0.39      0.62      0.48       983\n",
      "\n"
     ]
    }
   ],
   "source": [
    "#モデルの予測結果を表示\n",
    "print(metrics.classification_report(y_test, y_pred2))"
   ]
  },
  {
   "cell_type": "markdown",
   "id": "1094c114",
   "metadata": {},
   "source": [
    "以上の結果より今回私が作成したモデルでは正解率は約50%でした。\n",
    "\n",
    "分類としては良くない結果に終わってしまいましたが今後改善していく予定です。"
   ]
  },
  {
   "cell_type": "code",
   "execution_count": null,
   "id": "3eb4985e",
   "metadata": {},
   "outputs": [],
   "source": []
  }
 ],
 "metadata": {
  "kernelspec": {
   "display_name": "Python 3",
   "language": "python",
   "name": "python3"
  },
  "language_info": {
   "codemirror_mode": {
    "name": "ipython",
    "version": 3
   },
   "file_extension": ".py",
   "mimetype": "text/x-python",
   "name": "python",
   "nbconvert_exporter": "python",
   "pygments_lexer": "ipython3",
   "version": "3.8.3"
  }
 },
 "nbformat": 4,
 "nbformat_minor": 5
}
